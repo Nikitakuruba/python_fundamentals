{
 "cells": [
  {
   "cell_type": "code",
   "execution_count": 1,
   "metadata": {},
   "outputs": [],
   "source": [
    "first_name =\"Nikita\"\n",
    "firstname = \"Nikita\"\n",
    "\n",
    "#both are valid"
   ]
  },
  {
   "cell_type": "code",
   "execution_count": 3,
   "metadata": {},
   "outputs": [],
   "source": [
    "#2 it should not start with no\n",
    "\n",
    "!xyz = 1000-- invalid declartion\n",
    "xyz1 = 1000-- valid declartion"
   ]
  },
  {
   "cell_type": "code",
   "execution_count": null,
   "metadata": {},
   "outputs": [],
   "source": [
    "#3 it should not start with numbers\n",
    "\n",
    "@abc = 100 --invalid dec\n",
    "abc$ = 100 --valid dec"
   ]
  },
  {
   "cell_type": "code",
   "execution_count": 5,
   "metadata": {},
   "outputs": [],
   "source": [
    "#intoduction to datatypes in python:\n",
    "1.string--str\n",
    "2.List--list\n",
    "3.Tupple--tuple\n",
    "4.dictonary-dict"
   ]
  },
  {
   "cell_type": "code",
   "execution_count": 6,
   "metadata": {},
   "outputs": [],
   "source": [
    "#python is case senstive lang"
   ]
  },
  {
   "cell_type": "code",
   "execution_count": null,
   "metadata": {},
   "outputs": [],
   "source": [
    "def: a string is nothing but a series of characters.\n",
    "    Features:\n",
    "        a string ia a immutable dat type{which cannot be changed/modified once it get asigned}\n",
    "        how to create /define string\n",
    "        3 possible ways by which we able to create string.\n",
    "        1.''single quotes\n",
    "        2.\"\" double quotes\n",
    "        3.\"\"\" \"\"\" triple quotes"
   ]
  },
  {
   "cell_type": "code",
   "execution_count": 31,
   "metadata": {},
   "outputs": [
    {
     "name": "stdout",
     "output_type": "stream",
     "text": [
      "niKita kuruba\n"
     ]
    }
   ],
   "source": [
    "name = \"niKita kuruba\"\n",
    "print(name)"
   ]
  },
  {
   "cell_type": "code",
   "execution_count": null,
   "metadata": {},
   "outputs": [],
   "source": [
    "#intoduction to string methods\n",
    "#enchancment of the code"
   ]
  },
  {
   "cell_type": "code",
   "execution_count": 33,
   "metadata": {},
   "outputs": [
    {
     "name": "stdout",
     "output_type": "stream",
     "text": [
      "Nikita Kuruba\n"
     ]
    }
   ],
   "source": [
    "print(name.title())"
   ]
  },
  {
   "cell_type": "code",
   "execution_count": 34,
   "metadata": {},
   "outputs": [
    {
     "name": "stdout",
     "output_type": "stream",
     "text": [
      "NIKITA KURUBA\n"
     ]
    }
   ],
   "source": [
    "print(name.upper())"
   ]
  },
  {
   "cell_type": "code",
   "execution_count": 36,
   "metadata": {},
   "outputs": [
    {
     "name": "stdout",
     "output_type": "stream",
     "text": [
      "nikita kuruba\n"
     ]
    }
   ],
   "source": [
    "print(name.lower())"
   ]
  },
  {
   "cell_type": "code",
   "execution_count": 39,
   "metadata": {},
   "outputs": [
    {
     "name": "stdout",
     "output_type": "stream",
     "text": [
      " Nikita Kuruba\n"
     ]
    }
   ],
   "source": [
    "name1 = \"Nikita\"\n",
    "name2 =\"Kuruba\"\n",
    "fullname = f\" {name1} {name2}\"\n",
    "print(fullname)"
   ]
  },
  {
   "cell_type": "code",
   "execution_count": 40,
   "metadata": {},
   "outputs": [
    {
     "name": "stdout",
     "output_type": "stream",
     "text": [
      " Welcome to the new world Nikita Kuruba\n"
     ]
    }
   ],
   "source": [
    "name1 = \"Nikita\"\n",
    "name2 =\"Kuruba\"\n",
    "fullname = f\" Welcome to the new world {name1} {name2}\"\n",
    "print(fullname)"
   ]
  },
  {
   "cell_type": "code",
   "execution_count": null,
   "metadata": {},
   "outputs": [],
   "source": [
    "the should be no gap in between variable name"
   ]
  }
 ],
 "metadata": {
  "kernelspec": {
   "display_name": "Python 3",
   "language": "python",
   "name": "python3"
  },
  "language_info": {
   "codemirror_mode": {
    "name": "ipython",
    "version": 3
   },
   "file_extension": ".py",
   "mimetype": "text/x-python",
   "name": "python",
   "nbconvert_exporter": "python",
   "pygments_lexer": "ipython3",
   "version": "3.7.4"
  }
 },
 "nbformat": 4,
 "nbformat_minor": 2
}
